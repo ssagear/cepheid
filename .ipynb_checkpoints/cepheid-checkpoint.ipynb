{
 "cells": [
  {
   "cell_type": "code",
   "execution_count": 2,
   "metadata": {},
   "outputs": [],
   "source": [
    "import numpy\n",
    "import matplotlib.pyplot as plt\n",
    "import pandas\n",
    "from astropy.io import fits\n",
    "from glob import glob\n",
    "from scipy.optimize import curve_fit"
   ]
  },
  {
   "cell_type": "code",
   "execution_count": 3,
   "metadata": {},
   "outputs": [],
   "source": [
    "def get_flats(path):\n",
    "    \"\"\"\n",
    "    Extracts flats from fits files\n",
    "    \n",
    "    Parameters\n",
    "    ----------\n",
    "    path: str\n",
    "        path of all flat frames from rho\n",
    "    Returns\n",
    "    -------\n",
    "    X_flats: np.ndarray\n",
    "        3d array of flat frames in each filter (R, V, B, I)\n",
    "    \"\"\"\n",
    "\n",
    "    flats_filenames = glob(path)\n",
    "    flats = []\n",
    "    flats_filters = []\n",
    "\n",
    "    for i in range(len(flats_filenames[1:])):\n",
    "        flats.append(fits.getdata(flats_filenames[i]))\n",
    "        hdul = fits.open(flats_filenames[i])\n",
    "        flats_filters.append(hdul[0].header['FILTER'])\n",
    "        hdul.close()\n",
    "\n",
    "    flats_filters = np.asarray(flats_filters)\n",
    "    flats = np.asarray(flats)\n",
    "    flats = flats.astype(float)\n",
    "\n",
    "    R_flats = flats[np.where(flats_filters == 'R')]\n",
    "    V_flats = flats[np.where(flats_filters == 'V')]\n",
    "    B_flats = flats[np.where(flats_filters == 'B')]\n",
    "    I_flats = flats[np.where(flats_filters == 'I')]\n",
    "    \n",
    "    return R_flats, V_flats, B_flats, I_flats"
   ]
  },
  {
   "cell_type": "code",
   "execution_count": null,
   "metadata": {},
   "outputs": [],
   "source": [
    "_, V_flats, _, _ = get_flats('2020-10-17/h_persei_flats*')"
   ]
  },
  {
   "cell_type": "code",
   "execution_count": 4,
   "metadata": {},
   "outputs": [],
   "source": [
    "def seq(path, expt):\n",
    "    \"\"\"\n",
    "    Extracts light frames & darks from fits files\n",
    "    \n",
    "    Parameters\n",
    "    ----------\n",
    "    path: str\n",
    "        Path of all flat frames from rho\n",
    "    expt: float\n",
    "        Exposure time of darks\n",
    "    Returns\n",
    "    -------\n",
    "    X_seq: np.ndarray\n",
    "        3d array of light frames in each filter (R, V, B, I)\n",
    "    seq_darks: np.ndarra\n",
    "        3d array of dark frames\n",
    "    \"\"\"\n",
    "\n",
    "\n",
    "    seq_filenames = np.sort(glob(path))\n",
    "    seq_light = []\n",
    "    seq_darks = []\n",
    "    seq_filters = []\n",
    "\n",
    "    for i in range(len(seq_filenames[1:])):\n",
    "\n",
    "        hdul = fits.open(seq_filenames[i])\n",
    "        if hdul[0].header['FRAME'] == 'Light':\n",
    "            seq_filters.append(hdul[0].header['FILTER'])\n",
    "            seq_light.append(fits.getdata(seq_filenames[i]))\n",
    "        else:\n",
    "            seq_darks.append(fits.getdata(seq_filenames[i]))\n",
    "        hdul.close()\n",
    "\n",
    "    seq_filters = np.asarray(seq_filters)\n",
    "    seq_light = np.asarray(seq_light)\n",
    "    seq_light = seq_light.astype(float)\n",
    "\n",
    "\n",
    "    R_seq = seq_light[np.where(seq_filters == 'R')]\n",
    "    V_seq = seq_light[np.where(seq_filters == 'V')]\n",
    "    B_seq = seq_light[np.where(seq_filters == 'B')]\n",
    "    I_seq = seq_light[np.where(seq_filters == 'I')]\n",
    "    \n",
    "    return R_seq, V_seq, B_seq, I_seq, seq_darks"
   ]
  },
  {
   "cell_type": "code",
   "execution_count": null,
   "metadata": {},
   "outputs": [],
   "source": [
    "R_seq, V_seq, B_seq, I_seq, seq_dark = seq('2020-10-17/h_persei_seq*', 5.0)"
   ]
  },
  {
   "cell_type": "markdown",
   "metadata": {},
   "source": [
    "### Step 2: Master Dark:"
   ]
  },
  {
   "cell_type": "code",
   "execution_count": null,
   "metadata": {},
   "outputs": [],
   "source": [
    "master_V_dark = np.median(seq_dark, axis=0)"
   ]
  },
  {
   "cell_type": "markdown",
   "metadata": {},
   "source": [
    "### Step 3: Master Flat:"
   ]
  },
  {
   "cell_type": "code",
   "execution_count": null,
   "metadata": {},
   "outputs": [],
   "source": [
    "comb_V_flat = np.median(V_flats,axis=0) - master_V_dark\n",
    "div = master_V_dark/np.median(comb_V_flat)\n",
    "master_V_flat = comb_V_flat - div"
   ]
  },
  {
   "cell_type": "markdown",
   "metadata": {},
   "source": [
    "### Step 4, 5: Subtract dark and divide by flat for each science frame"
   ]
  },
  {
   "cell_type": "code",
   "execution_count": null,
   "metadata": {},
   "outputs": [],
   "source": [
    "V_proc = []\n",
    "\n",
    "for i in range(len(V_seq)):\n",
    "    V_proc_temp = V_seq[i] - master_V_dark\n",
    "    V_proc.append(V_proc_temp/master_V_flat)"
   ]
  },
  {
   "cell_type": "markdown",
   "metadata": {},
   "source": [
    "### Step 6: Shifting frames with np.roll"
   ]
  },
  {
   "cell_type": "code",
   "execution_count": null,
   "metadata": {},
   "outputs": [],
   "source": [
    "shifts = [[0,4], [0,7], [0,7], [-1,8], [-2,7], [-3,5], [-6,3], [-8,2], [-10,-1]]"
   ]
  },
  {
   "cell_type": "code",
   "execution_count": 5,
   "metadata": {},
   "outputs": [],
   "source": [
    "def shiftroll(shifts, frames):\n",
    "    \"\"\"\n",
    "    Shifts off-center frames, median-combines, and flips along y-axis\n",
    "    \n",
    "    Parameters\n",
    "    ----------\n",
    "    shifts: list\n",
    "        list of [x,y] shifts\n",
    "    frames: np.ndarray\n",
    "        3d array of processed science images\n",
    "    Returns\n",
    "    -------\n",
    "    rolledframes: np.ndarray\n",
    "        Final median-combined image\n",
    "    \"\"\"\n",
    "    rolledframes = []\n",
    "    rolledframes.append(V_seq[0])\n",
    "    for i in range(1, len(frames)):\n",
    "        rolledframes.append(np.roll(frames[i], shifts[i-1], axis=(0,1)))\n",
    "    \n",
    "    rolledframes = np.asarray(rolledframes)\n",
    "    rolledframes = np.median(rolledframes, axis=0)\n",
    "    \n",
    "    #flip to match DS9 orientation\n",
    "    rolledframes = np.flip(rolledframes, 0)\n",
    "    \n",
    "    return rolledframes"
   ]
  },
  {
   "cell_type": "code",
   "execution_count": null,
   "metadata": {},
   "outputs": [],
   "source": [
    "V = shiftroll(shifts, V_proc)"
   ]
  },
  {
   "cell_type": "markdown",
   "metadata": {},
   "source": [
    "## Aperture Photometry"
   ]
  },
  {
   "cell_type": "code",
   "execution_count": null,
   "metadata": {},
   "outputs": [],
   "source": [
    "from astropy.modeling import models, fitting"
   ]
  },
  {
   "cell_type": "code",
   "execution_count": 6,
   "metadata": {},
   "outputs": [],
   "source": [
    "def cutout(image, bb, center):\n",
    "    \"\"\"\n",
    "    Cuts out smaller frame around star\n",
    "    \n",
    "    Parameters\n",
    "    ----------\n",
    "    image: np.ndarray\n",
    "        Whole image\n",
    "    bb: int\n",
    "        Cut out a box of side size 2*bb\n",
    "    center: [x,y]\n",
    "        Center of star in whole image [x,y]\n",
    "    \n",
    "    Returns\n",
    "    -------\n",
    "    xp, yp: ints\n",
    "        Grids of box size\n",
    "    box: np.ndarray\n",
    "        Cutout image\n",
    "    \"\"\"\n",
    "    xc = int(center[0])\n",
    "    yc = int(center[1])\n",
    "    box = image[yc-bb:yc+bb, xc-bb:xc+bb]\n",
    "    xp, yp = box.shape\n",
    "    return xp, yp, box\n",
    "\n",
    "def gaussian(yp, xp, box):\n",
    "    \"\"\" Fits a 2d Gaussian to star\n",
    "    \"\"\"\n",
    "    y, x, = np.mgrid[:yp, :xp]\n",
    "    f_init = models.Gaussian2D()\n",
    "    fit_f = fitting.LevMarLSQFitter()\n",
    "    fV = fit_f(f_init, x, y, box)\n",
    "    \n",
    "    return fV, x, y\n",
    "\n",
    "def sigma_avg(x,y):\n",
    "    \"\"\" Averages sigmas\n",
    "    \"\"\"\n",
    "    return np.mean([float(x), float(y)])\n",
    "\n",
    "def px_to_arcsec(fwhm):\n",
    "    return fwhm*0.605"
   ]
  },
  {
   "cell_type": "code",
   "execution_count": 7,
   "metadata": {},
   "outputs": [],
   "source": [
    "def psf(image, targ_loc, boxsize, expt, aper, aper_inside, aper_outside, plot='star'):\n",
    "    \"\"\"\n",
    "    Star psf\n",
    "    \n",
    "    Parameters\n",
    "    ----------\n",
    "    image: np.ndarray\n",
    "        Entire image\n",
    "    targ_loc: [x,y]\n",
    "        Coordinates of target\n",
    "    boxsize: int\n",
    "        1/2 box side length for image cutout around target star\n",
    "    expt: float\n",
    "        Exposure time\n",
    "    aper: float\n",
    "        Aperture size (units of FWHM)\n",
    "    aper_inside: float\n",
    "        Inner aperture size (units of FWHM)\n",
    "    aper_outside: float\n",
    "        Outside aperture size (units of FWHM)\n",
    "    plot: 'star', 'gaussian', 'cutout'\n",
    "        Plot keyword\n",
    "    \n",
    "    Returns\n",
    "    -------\n",
    "    F_targ: float\n",
    "        Flux in PSF of target\n",
    "    F_targ_persec: float\n",
    "        Flux in PSF of target per second of exposure\n",
    "    \"\"\"\n",
    "    F_sky_pix = []\n",
    "    \n",
    "    targ_loc[1] = 1266-targ_loc[1]\n",
    "    \n",
    "    xp, yp, current_image = cutout(image, boxsize, targ_loc)\n",
    "    \n",
    "    fV, x, y = gaussian(xp, yp, current_image)\n",
    "    \n",
    "    #plt.xlabel('x pixels')\n",
    "    #plt.ylabel('y pixels')\n",
    "    \n",
    "    if plot=='star':\n",
    "        plt.imshow(current_image)\n",
    "        plt.show()\n",
    "    elif plot =='gaussian':\n",
    "        plt.imshow(fV(x,y))\n",
    "        plt.show()\n",
    "    \n",
    "    sigma = sigma_avg(fV.x_stddev[0],fV.y_stddev[0])\n",
    "    #xbar = fV.x_mean[0]\n",
    "    fwhm = 2.355*float(sigma)\n",
    "    fit = fV(x, y)\n",
    "    \n",
    "    center = np.where(fit == np.max(fit))\n",
    " \n",
    "    circ_image = np.zeros(current_image.shape)\n",
    "    N_targ = 0\n",
    "    for i in range(len(current_image)):\n",
    "        for j in range(len(current_image[0])):\n",
    "            dist = np.sqrt((center[0]-i)**2+(center[1]-j)**2)\n",
    "            if dist >= aper_inside*fwhm and dist <= aper_outside*fwhm:\n",
    "                F_sky_pix.append(current_image[i][j])  \n",
    "            if (dist > aper*fwhm):\n",
    "                circ_image[i][j] = 0.0\n",
    "            else:\n",
    "                circ_image[i][j] = current_image[i][j]\n",
    "                N_targ+=1\n",
    "\n",
    "    F_sky_pix_med = np.median(F_sky_pix)\n",
    "    F_targ_raw = 0\n",
    "    F_targ_raw = np.sum(circ_image)\n",
    "      \n",
    "    if plot=='cutout':\n",
    "        plt.imshow(circ_image)\n",
    "        plt.show()\n",
    "    \n",
    "    F_targ = F_targ_raw - N_targ*F_sky_pix_med\n",
    "    F_targ_persec = F_targ/expt\n",
    "                        \n",
    "    return F_targ_persec"
   ]
  },
  {
   "cell_type": "code",
   "execution_count": 8,
   "metadata": {},
   "outputs": [],
   "source": [
    "tnames = ['2-3694-3626-1', '2-3694-2565-1', '2-3694-2943-1', '2-3694-1712-1', '2-3694-3750-1', '2-3694-3451-1', '2-3694-1822-1', '2-3694-1719-1',  '2-3694-1853-1', '2-3694-1363-1']\n",
    "targlocs = [[440, 134], [382,1013], [529, 634], [892, 1139], [194, 272], [329,956], [1150, 146], [1032, 812], [1463, 134], [1485, 1077]]\n",
    "boxsizes = [25, 35, 45, 30, 36, 40, 40, 27, 20, 56] "
   ]
  },
  {
   "cell_type": "code",
   "execution_count": 9,
   "metadata": {},
   "outputs": [],
   "source": [
    "def get_flux_per_s(image, targlocs, boxsizes, aper, aper_in, aper_out, plot=None):\n",
    "    \n",
    "    tnames = ['2-3694-3626-1', '2-3694-2565-1', '2-3694-2943-1', '2-3694-1712-1', '2-3694-3750-1', '2-3694-3451-1', '2-3694-1822-1', '2-3694-1719-1',  '2-3694-1853-1', '2-3694-1363-1']\n",
    "    targlocs = [[440, 134], [382,1013], [529, 634], [892, 1139], [194, 272], [329,956], [1150, 146], [1032, 812], [1463, 134], [1485, 1077]]\n",
    "    boxsizes = [25, 35, 45, 30, 36, 40, 40, 27, 20, 56]\n",
    "    \n",
    "    Flux_per_s = [0, 0, 0, 0, 0, 0, 0, 0, 0, 0]\n",
    "    \n",
    "    for i in range(len(targlocs)):\n",
    "        F_targ_pers = psf(image, targlocs[i], boxsizes[i], 5.0, aper, aper_in, aper_out, plot)\n",
    "        Flux_per_s[i] = F_targ_pers\n",
    "    return Flux_per_s"
   ]
  },
  {
   "cell_type": "code",
   "execution_count": 10,
   "metadata": {},
   "outputs": [
    {
     "ename": "NameError",
     "evalue": "name 'V' is not defined",
     "output_type": "error",
     "traceback": [
      "\u001b[0;31m---------------------------------------------------------------------------\u001b[0m",
      "\u001b[0;31mNameError\u001b[0m                                 Traceback (most recent call last)",
      "\u001b[0;32m<ipython-input-10-8f539c121811>\u001b[0m in \u001b[0;36m<module>\u001b[0;34m\u001b[0m\n\u001b[0;32m----> 1\u001b[0;31m \u001b[0mFlux_per_s\u001b[0m \u001b[0;34m=\u001b[0m \u001b[0mget_flux_per_s\u001b[0m\u001b[0;34m(\u001b[0m\u001b[0mV\u001b[0m\u001b[0;34m,\u001b[0m \u001b[0mtarglocs\u001b[0m\u001b[0;34m,\u001b[0m \u001b[0mboxsizes\u001b[0m\u001b[0;34m,\u001b[0m \u001b[0;36m1.3\u001b[0m\u001b[0;34m,\u001b[0m \u001b[0;36m2.\u001b[0m\u001b[0;34m,\u001b[0m \u001b[0;36m3.\u001b[0m\u001b[0;34m,\u001b[0m \u001b[0mplot\u001b[0m\u001b[0;34m=\u001b[0m\u001b[0;32mNone\u001b[0m\u001b[0;34m)\u001b[0m\u001b[0;34m\u001b[0m\u001b[0;34m\u001b[0m\u001b[0m\n\u001b[0m",
      "\u001b[0;31mNameError\u001b[0m: name 'V' is not defined"
     ]
    }
   ],
   "source": [
    "Flux_per_s = get_flux_per_s(V, targlocs, boxsizes, 1.3, 2., 3., plot=None)"
   ]
  },
  {
   "cell_type": "code",
   "execution_count": null,
   "metadata": {},
   "outputs": [],
   "source": []
  }
 ],
 "metadata": {
  "kernelspec": {
   "display_name": "Python 3",
   "language": "python",
   "name": "python3"
  },
  "language_info": {
   "codemirror_mode": {
    "name": "ipython",
    "version": 3
   },
   "file_extension": ".py",
   "mimetype": "text/x-python",
   "name": "python",
   "nbconvert_exporter": "python",
   "pygments_lexer": "ipython3",
   "version": "3.7.6"
  }
 },
 "nbformat": 4,
 "nbformat_minor": 4
}
